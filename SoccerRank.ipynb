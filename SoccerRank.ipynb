{
 "cells": [
  {
   "cell_type": "code",
   "execution_count": 4,
   "id": "4c9c261f",
   "metadata": {},
   "outputs": [],
   "source": [
    "import csv\n",
    "def readFile(x):\n",
    "    pool=[]\n",
    "    with open(x,'r') as csv_file:\n",
    "        reader=csv.reader(csv_file)\n",
    "        for row in reader:\n",
    "            pool.append(row[1:6])\n",
    "        csv_file.close()\n",
    "    return(pool[1:])"
   ]
  },
  {
   "cell_type": "code",
   "execution_count": 5,
   "id": "baebb810",
   "metadata": {},
   "outputs": [],
   "source": [
    "def battle(t1,t2):\n",
    "    #attacker right, attacker left, defender right, defender left, goalkeeper\n",
    "    al1, ar1, dl1, dr1, g1 = t1\n",
    "    al2, ar2, dl2, dr2, g2 = t2\n",
    "    g = 0 # goals scored\n",
    "    if al1<dl2:\n",
    "        g += 1\n",
    "    if al1<g2:\n",
    "        g += 1\n",
    "    if ar1<dr2:\n",
    "        g +=1\n",
    "    if ar1<g2:\n",
    "        g += 1\n",
    "    if dl1<dl2:\n",
    "        g += 1\n",
    "    if dr1<dr2:\n",
    "        g += 1\n",
    "  \n",
    "    return g\n",
    "    \n",
    "    "
   ]
  },
  {
   "cell_type": "code",
   "execution_count": 9,
   "id": "c6f38852",
   "metadata": {},
   "outputs": [
    {
     "name": "stdout",
     "output_type": "stream",
     "text": [
      "[[10, 19, -9, -9, -3, 10], [5, 21, -16, -7, -5, 6], [4, 27, -23, -5, -3, 8], [2, 22, -20, -6, -5, 1], [0, 21, -21, -6, -3, 9], [0, 12, -12, -9, -1, 4], [0, 12, -12, -9, -1, 3], [-5, 27, -32, -3, -5, 7], [-6, 20, -26, -5, -2, 5], [-10, 18, -28, -5, -2, 2]]\n",
      "\n",
      "[[10, 27, -17, -7, -5, 17], [8, 21, -13, -8, -4, 18], [5, 26, -21, -6, -5, 20], [-1, 11, -12, -9, -1, 16], [-1, 11, -12, -9, -1, 15], [-2, 21, -23, -5, -3, 13], [-3, 26, -29, -4, -5, 14], [-5, 24, -29, -3, -3, 11], [-5, 19, -24, -5, -1, 19], [-6, 21, -27, -4, -2, 12]]\n",
      "\n",
      "[[9, 26, -17, -7, -5, 22], [5, 25, -20, -6, -5, 30], [3, 14, -11, -9, -1, 25], [2, 13, -11, -9, -1, 27], [1, 26, -25, -6, -5, 24], [-1, 23, -24, -6, -3, 23], [-3, 29, -32, -3, -5, 21], [-3, 18, -21, -6, -2, 29], [-6, 26, -32, -3, -3, 28], [-7, 22, -29, -5, -2, 26]]\n",
      "\n",
      "[[6, 22, -16, -7, -5, 32], [4, 30, -26, -5, -5, 34], [4, 26, -22, -7, -4, 35], [4, 25, -21, -7, -4, 31], [1, 23, -22, -7, -3, 33], [-1, 22, -23, -6, -3, 37], [-3, 32, -35, -3, -4, 40], [-3, 24, -27, -5, -3, 39], [-6, 29, -35, -3, -3, 36], [-6, 22, -28, -5, -2, 38]]\n",
      "\n"
     ]
    }
   ],
   "source": [
    "teams = []\n",
    "\n",
    "filename = \"C:/Users/user/pool\" #location of paricipant pools \n",
    "pool_score = []\n",
    "for k in range(1,5):\n",
    "    teams = readFile(filename+str(k)+\".csv\") #Getting all teams of one pool\n",
    "    team_scores = []\n",
    "    for i in range(10):\n",
    "        team_scores.append([0,0,0,-1*int(teams[i][0]) - int(teams[i][1]),-1*int(teams[i][4]), i+1 + (k-1)*10])\n",
    "    for i in range(10):\n",
    "        for j in range(10):\n",
    "            if j == i:\n",
    "                continue\n",
    "            #updating team scores after every match\n",
    "            team_scores[i][0] += int(battle(teams[i],teams[j])) \n",
    "            team_scores[i][1] += int(battle(teams[i],teams[j]))\n",
    "            team_scores[j][0] -= int(battle(teams[i],teams[j]))\n",
    "            team_scores[j][2] -= int(battle(teams[i],teams[j]))\n",
    "    team_scores.sort(reverse=True) # getting best teams\n",
    "    pool_score.append(team_scores)\n",
    "    print(team_scores)\n",
    "    print()\n",
    "    "
   ]
  }
 ],
 "metadata": {
  "kernelspec": {
   "display_name": "Python 3 (ipykernel)",
   "language": "python",
   "name": "python3"
  },
  "language_info": {
   "codemirror_mode": {
    "name": "ipython",
    "version": 3
   },
   "file_extension": ".py",
   "mimetype": "text/x-python",
   "name": "python",
   "nbconvert_exporter": "python",
   "pygments_lexer": "ipython3",
   "version": "3.9.13"
  }
 },
 "nbformat": 4,
 "nbformat_minor": 5
}
